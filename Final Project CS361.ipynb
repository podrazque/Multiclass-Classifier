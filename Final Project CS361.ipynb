{
 "cells": [
  {
   "cell_type": "code",
   "execution_count": 2,
   "metadata": {},
   "outputs": [],
   "source": [
    "#Maksymilian Podraza\n",
    "#CS361 \n",
    "#Multi Class Classifier"
   ]
  },
  {
   "cell_type": "code",
   "execution_count": 3,
   "metadata": {},
   "outputs": [],
   "source": [
    "import os, random, itertools\n",
    "import pandas as pd\n",
    "from sklearn.ensemble import RandomForestClassifier\n",
    "import sklearn.cluster\n",
    "import sklearn.metrics as metrics\n",
    "import matplotlib.pyplot as plt\n",
    "import numpy as np\n",
    "from sklearn.cluster import KMeans"
   ]
  },
  {
   "cell_type": "code",
   "execution_count": 4,
   "metadata": {},
   "outputs": [],
   "source": [
    "ratio_for_training = 0.80 \n",
    "pat_s = 480\n",
    "num_pat = 32"
   ]
  },
  {
   "cell_type": "code",
   "execution_count": 5,
   "metadata": {},
   "outputs": [],
   "source": [
    "dataDirectory = \"HMP_Dataset\""
   ]
  },
  {
   "cell_type": "code",
   "execution_count": 6,
   "metadata": {},
   "outputs": [],
   "source": [
    "def initialSetupWithData():\n",
    "    all_data = {}\n",
    "    labels = next(os.walk(dataDirectory))[1]\n",
    "    for label in labels:\n",
    "        activity_folder_data = []\n",
    "        label = label.lower()\n",
    "        files = next(os.walk(os.path.join(dataDirectory, label)))[2]\n",
    "        for file in files:\n",
    "            with open(os.path.join(dataDirectory, label, file), 'r') as file:\n",
    "                file_data = []\n",
    "                for line in file.readlines():\n",
    "                    x, y, z = [float(x) for x in line.split(\" \")]\n",
    "                    file_data.append((x, y, z))\n",
    "            activity_folder_data.append(file_data)\n",
    "        all_data[label] = activity_folder_data\n",
    "    return all_data"
   ]
  },
  {
   "cell_type": "code",
   "execution_count": 7,
   "metadata": {},
   "outputs": [],
   "source": [
    "def dataSplitter():\n",
    "    train_dict = {}\n",
    "    eval_dict = {}\n",
    "    for label in all_data:\n",
    "        random.shuffle(all_data[label])\n",
    "        cutoff_index = max(int(len(all_data[label])*ratio_for_training), 3)\n",
    "        train_dict[label] = all_data[label][:cutoff_index] \n",
    "        eval_dict[label] = all_data[label][cutoff_index:]\n",
    "    return (train_dict, eval_dict)"
   ]
  },
  {
   "cell_type": "code",
   "execution_count": 8,
   "metadata": {},
   "outputs": [],
   "source": [
    "def chunkifier(x, size = pat_s):\n",
    "    chunkies = []\n",
    "    i = 0\n",
    "    while len(x[i:i+size]) == size:\n",
    "        chunkies.append(x[i:i+size])\n",
    "        i += size\n",
    "    return chunkies"
   ]
  },
  {
   "cell_type": "code",
   "execution_count": 9,
   "metadata": {},
   "outputs": [],
   "source": [
    "def flattifier(x): \n",
    "    return list(sum(x, ())) #this is a trick my friend showed me, not really sure how it works but it does lol"
   ]
  },
  {
   "cell_type": "code",
   "execution_count": 10,
   "metadata": {},
   "outputs": [],
   "source": [
    "def createPatternData():\n",
    "    pattern_building_data = []\n",
    "    for label in train_dict:\n",
    "        for file in train_dict[label]:\n",
    "            for chunkifiedVector in chunkifier(file):\n",
    "                pattern_building_data.append(flattifier(chunkifiedVector))\n",
    "    return pattern_building_data"
   ]
  },
  {
   "cell_type": "code",
   "execution_count": 11,
   "metadata": {},
   "outputs": [],
   "source": [
    "def featureHistogram(file):\n",
    "    chunkies = [flattifier(x) for x in chunkifier(file)]\n",
    "    histogram = [0 for i in range(num_pat)]\n",
    "    patterns = clusterer.predict(chunkies)\n",
    "    for pattern_index in patterns:\n",
    "        histogram[pattern_index] += 1\n",
    "    return histogram"
   ]
  },
  {
   "cell_type": "code",
   "execution_count": 12,
   "metadata": {},
   "outputs": [],
   "source": [
    "def classifierFuncReturn_training_data():\n",
    "    temp_data = []\n",
    "    for label in train_dict:\n",
    "        for file in train_dict[label]:\n",
    "            histogram = featureHistogram(file)\n",
    "            data = {'Activity': label}\n",
    "            for i in range(len(histogram)):\n",
    "                data[i] = histogram[i]\n",
    "            temp_data.append(data)\n",
    "    classifier_training_data = pd.DataFrame(temp_data)\n",
    "    return classifier_training_data"
   ]
  },
  {
   "cell_type": "code",
   "execution_count": 13,
   "metadata": {},
   "outputs": [],
   "source": [
    "def indepAndDep():\n",
    "    indep = classifier_training_data[[i for i in range(num_pat)]]\n",
    "    dep = classifier_training_data['Activity']\n",
    "    return (indep, dep)"
   ]
  },
  {
   "cell_type": "code",
   "execution_count": 14,
   "metadata": {},
   "outputs": [],
   "source": [
    "def indepAndDepEvaluation():\n",
    "    indep = []\n",
    "    dep = []\n",
    "    for label in eval_dict:\n",
    "        for file in eval_dict[label]:\n",
    "            indep.append(featureHistogram(file))\n",
    "            dep.append(label)\n",
    "    return (indep, dep)"
   ]
  },
  {
   "cell_type": "code",
   "execution_count": 15,
   "metadata": {},
   "outputs": [],
   "source": [
    "all_data = initialSetupWithData()"
   ]
  },
  {
   "cell_type": "code",
   "execution_count": 16,
   "metadata": {},
   "outputs": [],
   "source": [
    "train_dict, eval_dict = dataSplitter()"
   ]
  },
  {
   "cell_type": "code",
   "execution_count": 17,
   "metadata": {},
   "outputs": [],
   "source": [
    "pattern_building_data = createPatternData()"
   ]
  },
  {
   "cell_type": "code",
   "execution_count": 112,
   "metadata": {},
   "outputs": [],
   "source": [
    "clusterer = KMeans(n_clusters=24, random_state=0, max_iter=500)"
   ]
  },
  {
   "cell_type": "code",
   "execution_count": 113,
   "metadata": {
    "scrolled": true
   },
   "outputs": [
    {
     "data": {
      "text/plain": [
       "KMeans(algorithm='auto', copy_x=True, init='k-means++', max_iter=500,\n",
       "    n_clusters=24, n_init=10, n_jobs=None, precompute_distances='auto',\n",
       "    random_state=0, tol=0.0001, verbose=0)"
      ]
     },
     "execution_count": 113,
     "metadata": {},
     "output_type": "execute_result"
    }
   ],
   "source": [
    "clusterer.fit(pattern_building_data)"
   ]
  },
  {
   "cell_type": "code",
   "execution_count": 114,
   "metadata": {},
   "outputs": [],
   "source": [
    "classifier_training_data = classifierFuncReturn_training_data()"
   ]
  },
  {
   "cell_type": "code",
   "execution_count": 115,
   "metadata": {},
   "outputs": [],
   "source": [
    "indep, dep = indepAndDep()"
   ]
  },
  {
   "cell_type": "code",
   "execution_count": 116,
   "metadata": {},
   "outputs": [],
   "source": [
    "classifier = RandomForestClassifier(n_estimators=250, criterion='entropy')"
   ]
  },
  {
   "cell_type": "code",
   "execution_count": 117,
   "metadata": {},
   "outputs": [
    {
     "data": {
      "text/plain": [
       "RandomForestClassifier(bootstrap=True, class_weight=None, criterion='entropy',\n",
       "            max_depth=None, max_features='auto', max_leaf_nodes=None,\n",
       "            min_impurity_decrease=0.0, min_impurity_split=None,\n",
       "            min_samples_leaf=1, min_samples_split=2,\n",
       "            min_weight_fraction_leaf=0.0, n_estimators=250, n_jobs=None,\n",
       "            oob_score=False, random_state=None, verbose=0,\n",
       "            warm_start=False)"
      ]
     },
     "execution_count": 117,
     "metadata": {},
     "output_type": "execute_result"
    }
   ],
   "source": [
    "classifier.fit(indep, dep)"
   ]
  },
  {
   "cell_type": "code",
   "execution_count": 118,
   "metadata": {},
   "outputs": [],
   "source": [
    "indep_eval, dep_eval = indepAndDepEvaluation()"
   ]
  },
  {
   "cell_type": "code",
   "execution_count": 119,
   "metadata": {},
   "outputs": [],
   "source": [
    "dep_pred = classifier.predict(indep_eval)"
   ]
  },
  {
   "cell_type": "code",
   "execution_count": 120,
   "metadata": {},
   "outputs": [
    {
     "name": "stdout",
     "output_type": "stream",
     "text": [
      "    0   1   2   3   4   5   6   7   8   9   10  11  12  13  14  15  16  17  \\\n",
      "0    3   0   0   0   0   0   0   0   0   0   0   0   0   0   0   0   0   0   \n",
      "1    0  12   1   0   4   2   0   0   0   0   0   0   0   0   0   2   0   0   \n",
      "2    0   1   3   0   0   0   0   0   0   0   0   0   0   0   0   0   0   0   \n",
      "3    0   0   0   6   0   1   0   0   0   0   0   0   0   0   0   0   0   0   \n",
      "4    0   3   0   0   5   0   0   0   0   0   0   0   0   0   0   0   0   0   \n",
      "5    0   0   0   0   0  18   1   0   0   0   0   1   0   0   0   0   0   0   \n",
      "6    0   0   0   0   0   4   0   0   0   0   0   0   0   0   0   0   0   0   \n",
      "7    0   0   0   0   0   0   0   1   0   0   0   0   0   0   0   0   0   0   \n",
      "8    0   0   0   0   0   0   0   0  14   2   1   0   0   2   0   1   0   0   \n",
      "9    0   0   0   0   0   0   0   0   2   0   0   0   0   1   0   1   0   0   \n",
      "10   0   0   0   0   0   0   0   0   3   1   0   0   0   2   0   0   0   0   \n",
      "11   0   0   0   0   0   0   0   0   0   0   0  20   0   0   0   0   0   0   \n",
      "12   0   0   0   0   0   0   0   0   0   0   0   3   1   0   0   0   0   0   \n",
      "13   0   0   0   0   0   0   0   0   0   0   0   0   0  11   4   5   0   0   \n",
      "14   0   0   0   0   0   0   0   0   0   0   0   0   0   4   0   0   0   0   \n",
      "15   0   0   0   0   0   0   0   0   0   1   0   0   0   7   0  11   1   0   \n",
      "16   0   0   0   0   0   0   0   0   0   0   0   0   0   0   0   2   1   0   \n",
      "17   0   0   0   0   0   0   0   0   0   0   0   1   0   1   0   0   0   1   \n",
      "18   0   3   0   0   1   0   0   0   0   0   0   0   0   0   0   0   0   0   \n",
      "19   0   0   0   0   0   0   0   0   0   0   0   0   0   0   0   0   0   0   \n",
      "\n",
      "    18  19  \n",
      "0    0   0  \n",
      "1    0   0  \n",
      "2    0   0  \n",
      "3    0   0  \n",
      "4    1   0  \n",
      "5    0   0  \n",
      "6    0   0  \n",
      "7    0   0  \n",
      "8    0   1  \n",
      "9    0   0  \n",
      "10   0   0  \n",
      "11   0   0  \n",
      "12   0   0  \n",
      "13   0   0  \n",
      "14   0   0  \n",
      "15   0   1  \n",
      "16   0   1  \n",
      "17   0   0  \n",
      "18  16   0  \n",
      "19   0   4  \n"
     ]
    }
   ],
   "source": [
    "confusion_matrix = metrics.confusion_matrix(dep_eval, dep_pred)\n",
    "print(pd.DataFrame(confusion_matrix))"
   ]
  },
  {
   "cell_type": "code",
   "execution_count": 121,
   "metadata": {},
   "outputs": [
    {
     "data": {
      "text/plain": [
       "Text(0.5,0,'Classified label')"
      ]
     },
     "execution_count": 121,
     "metadata": {},
     "output_type": "execute_result"
    },
    {
     "data": {
      "image/png": "[encoded data removed]",
      "text/plain": [
       "<Figure size 576x576 with 1 Axes>"
      ]
     },
     "metadata": {},
     "output_type": "display_data"
    }
   ],
   "source": [
    "plt.figure(figsize=(8,8))\n",
    "plt.imshow(confusion_matrix, interpolation='nearest', cmap=plt.cm.Blues)\n",
    "plt.title('Confusion matrix for our classifer')\n",
    "tick_marks = np.arange(len(eval_dict.keys()))\n",
    "plt.xticks(tick_marks, eval_dict.keys(), rotation=90)\n",
    "plt.yticks(tick_marks, eval_dict.keys())\n",
    "plt.ylabel('Actual label')\n",
    "plt.xlabel('Classified label')"
   ]
  },
  {
   "cell_type": "code",
   "execution_count": 122,
   "metadata": {
    "scrolled": true
   },
   "outputs": [
    {
     "name": "stdout",
     "output_type": "stream",
     "text": [
      "Classification Report for our classider\n",
      "                     precision    recall  f1-score   support\n",
      "\n",
      "        brush_teeth       1.00      1.00      1.00         3\n",
      "       climb_stairs       0.63      0.57      0.60        21\n",
      " climb_stairs_model       0.75      0.75      0.75         4\n",
      "          comb_hair       1.00      0.86      0.92         7\n",
      "     descend_stairs       0.50      0.56      0.53         9\n",
      "        drink_glass       0.72      0.90      0.80        20\n",
      "  drink_glass_model       0.00      0.00      0.00         4\n",
      "           eat_meat       1.00      1.00      1.00         1\n",
      "          getup_bed       0.74      0.67      0.70        21\n",
      "    getup_bed_model       0.00      0.00      0.00         4\n",
      "        liedown_bed       0.00      0.00      0.00         6\n",
      "         pour_water       0.80      1.00      0.89        20\n",
      "   pour_water_model       1.00      0.25      0.40         4\n",
      "      sitdown_chair       0.39      0.55      0.46        20\n",
      "sitdown_chair_model       0.00      0.00      0.00         4\n",
      "      standup_chair       0.50      0.52      0.51        21\n",
      "standup_chair_model       0.50      0.25      0.33         4\n",
      "      use_telephone       1.00      0.33      0.50         3\n",
      "               walk       0.94      0.80      0.86        20\n",
      "         walk_model       0.57      1.00      0.73         4\n",
      "\n",
      "          micro avg       0.64      0.64      0.64       200\n",
      "          macro avg       0.60      0.55      0.55       200\n",
      "       weighted avg       0.63      0.64      0.62       200\n",
      "\n"
     ]
    }
   ],
   "source": [
    "print('Classification Report for our classider')\n",
    "print(metrics.classification_report(dep_eval, dep_pred))"
   ]
  },
  {
   "cell_type": "code",
   "execution_count": 28,
   "metadata": {},
   "outputs": [],
   "source": [
    "def whole_program(r, p, n): \n",
    "    ratio_for_training = r\n",
    "    pat_s = p\n",
    "    num_pat = n\n",
    "    all_data = initialSetupWithData()\n",
    "    train_dict, eval_dict = dataSplitter()\n",
    "    pattern_building_data = createPatternData()\n",
    "    clusterer = KMeans(n_clusters=24, random_state=0, max_iter=500)\n",
    "    clusterer.fit(pattern_building_data)\n",
    "    classifier_training_data = classifierFuncReturn_training_data()\n",
    "    indep, dep = indepAndDep()\n",
    "    classifier = RandomForestClassifier(n_estimators=250, criterion='entropy')\n",
    "    classifier.fit(indep, dep)\n",
    "    indep_eval, dep_eval = indepAndDepEvaluation()\n",
    "    dep_pred = classifier.predict(indep_eval)\n",
    "    \n",
    "    return metrics.precision_recall_fscore_support(dep_eval, dep_pred, average='weighted')[0]"
   ]
  },
  {
   "cell_type": "code",
   "execution_count": 29,
   "metadata": {},
   "outputs": [],
   "source": [
    "import warnings\n",
    "warnings.filterwarnings('ignore') #this gets rid of the warning otherwise we have a huge wall of red blocks"
   ]
  },
  {
   "cell_type": "code",
   "execution_count": 31,
   "metadata": {},
   "outputs": [
    {
     "name": "stdout",
     "output_type": "stream",
     "text": [
      "4 8 0.6765598206141683\n",
      "4 10 0.6832353284396763\n",
      "4 24 0.6866487061438434\n",
      "4 30 0.6849991877687529\n",
      "4 32 0.6786160976704454\n",
      "4 40 0.6800938644688643\n",
      "4 48 0.6897880673674152\n",
      "6 8 0.692124720689938\n",
      "6 10 0.6840508093355919\n",
      "6 24 0.6815559523809525\n",
      "6 30 0.6925955765249243\n",
      "6 32 0.6746542678336156\n",
      "6 40 0.7034506556245687\n",
      "6 48 0.6944269951063429\n",
      "8 8 0.6833147860593514\n",
      "8 10 0.690827101642319\n",
      "8 24 0.6951960901417423\n",
      "8 30 0.6867168737060041\n",
      "8 32 0.6856354382332642\n",
      "8 40 0.6627674430641821\n",
      "8 48 0.6850121603034647\n",
      "12 8 0.6811674195369847\n",
      "12 10 0.6818913906142167\n",
      "12 24 0.6769233719179372\n",
      "12 30 0.6668410893454372\n",
      "12 32 0.678245790200138\n",
      "12 40 0.6674838476740651\n",
      "12 48 0.6767187016454179\n",
      "16 8 0.7004580557124035\n",
      "16 10 0.6636753795721186\n",
      "16 24 0.6865025879917184\n",
      "16 30 0.698437526241874\n",
      "16 32 0.6777630461326113\n",
      "16 40 0.6824615853317798\n",
      "16 48 0.6650784472898416\n",
      "20 8 0.6807937016454179\n",
      "20 10 0.6865412214596996\n",
      "20 24 0.6749916387959866\n",
      "20 30 0.6814945416901937\n",
      "20 32 0.6963938060731539\n",
      "20 40 0.6899184185379837\n",
      "20 48 0.6953241311193256\n",
      "24 8 0.6657666387959867\n",
      "24 10 0.6875112146307798\n",
      "24 24 0.697415027605245\n",
      "24 30 0.6906413906142167\n",
      "24 32 0.6848460427253904\n",
      "24 40 0.6809540301627897\n",
      "24 48 0.6867176295926295\n",
      "30 8 0.6775861721611721\n",
      "30 10 0.6779273836067314\n",
      "30 24 0.6935177775123427\n",
      "30 30 0.6814845835324096\n",
      "30 32 0.6808357252650731\n",
      "30 40 0.6728850370643848\n",
      "30 48 0.6754964803312629\n",
      "32 8 0.6733365909452865\n",
      "32 10 0.6619456681000159\n",
      "32 24 0.6765445997239474\n",
      "32 30 0.684802104899931\n",
      "32 32 0.67856038647343\n",
      "32 40 0.6862877454670933\n",
      "32 48 0.6820562416160341\n",
      "64 8 0.684163216011042\n",
      "64 10 0.6767991091034569\n",
      "64 24 0.6614660520638782\n",
      "64 30 0.6767514731645166\n",
      "64 32 0.6749051448551449\n",
      "64 40 0.6946693342888994\n",
      "64 48 0.6834569597069597\n"
     ]
    }
   ],
   "source": [
    "#this is the code I ran to find optimal k and d\n",
    "#this takes a really long time so I just commented it out\n",
    "\n",
    "'''testing_patterns = [4, 6, 8, 12, 16, 20, 24, 30, 32, 64]\n",
    "testing_num_patterns = [8, 10, 24, 30, 32, 40, 48]\n",
    "maximum = [0, 0 ,0]\n",
    "for pattern in testing_patterns:\n",
    "    for num in testing_num_patterns:\n",
    "        returnVal = whole_program(.8, pattern, num)\n",
    "        print(pattern, num, returnVal)\n",
    "        if(returnVal > maximum[0]):\n",
    "            maximum[0] = returnVal\n",
    "            maximum[1] = pattern\n",
    "            maximum[2] = num'''"
   ]
  },
  {
   "cell_type": "code",
   "execution_count": 35,
   "metadata": {},
   "outputs": [
    {
     "name": "stdout",
     "output_type": "stream",
     "text": [
      "Highest achieved precision: 0.7034506556245687 with k = 6 and d = 40\n"
     ]
    }
   ],
   "source": [
    "print(\"Highest achieved precision:\",maximum[0], \"with k =\", maximum[1], \"and d =\", maximum[2])"
   ]
  },
  {
   "cell_type": "code",
   "execution_count": 40,
   "metadata": {
    "scrolled": true
   },
   "outputs": [
    {
     "data": {
      "text/plain": [
       "0.6982863181504486"
      ]
     },
     "execution_count": 40,
     "metadata": {},
     "output_type": "execute_result"
    }
   ],
   "source": [
    "#Running our classifier with the maximum k and d\n",
    "whole_program(0.8, 6, 40)"
   ]
  },
  {
   "cell_type": "code",
   "execution_count": 45,
   "metadata": {},
   "outputs": [
    {
     "data": {
      "text/plain": [
       "array([[ 2,  0,  0,  1,  0,  0,  0,  0,  0,  0,  0,  0,  0,  0,  0,  0,\n",
       "         0,  0,  0,  0],\n",
       "       [ 0, 18,  1,  0,  1,  0,  0,  0,  0,  0,  0,  0,  0,  0,  0,  0,\n",
       "         0,  0,  1,  0],\n",
       "       [ 0,  3,  1,  0,  0,  0,  0,  0,  0,  0,  0,  0,  0,  0,  0,  0,\n",
       "         0,  0,  0,  0],\n",
       "       [ 0,  0,  0,  6,  0,  0,  0,  0,  1,  0,  0,  0,  0,  0,  0,  0,\n",
       "         0,  0,  0,  0],\n",
       "       [ 0,  3,  0,  0,  6,  0,  0,  0,  0,  0,  0,  0,  0,  0,  0,  0,\n",
       "         0,  0,  0,  0],\n",
       "       [ 0,  0,  0,  0,  0, 18,  2,  0,  0,  0,  0,  0,  0,  0,  0,  0,\n",
       "         0,  0,  0,  0],\n",
       "       [ 0,  0,  0,  0,  0,  4,  0,  0,  0,  0,  0,  0,  0,  0,  0,  0,\n",
       "         0,  0,  0,  0],\n",
       "       [ 0,  0,  0,  0,  0,  0,  0,  1,  0,  0,  0,  0,  0,  0,  0,  0,\n",
       "         0,  0,  0,  0],\n",
       "       [ 0,  0,  0,  0,  0,  0,  0,  0, 19,  1,  0,  0,  0,  0,  0,  1,\n",
       "         0,  0,  0,  0],\n",
       "       [ 0,  0,  0,  0,  0,  0,  0,  0,  4,  0,  0,  0,  0,  0,  0,  0,\n",
       "         0,  0,  0,  0],\n",
       "       [ 0,  0,  0,  0,  0,  0,  0,  0,  3,  0,  1,  0,  0,  2,  0,  0,\n",
       "         0,  0,  0,  0],\n",
       "       [ 0,  0,  0,  0,  0,  0,  0,  0,  0,  0,  0, 20,  0,  0,  0,  0,\n",
       "         0,  0,  0,  0],\n",
       "       [ 0,  0,  0,  0,  0,  0,  0,  0,  0,  0,  0,  4,  0,  0,  0,  0,\n",
       "         0,  0,  0,  0],\n",
       "       [ 0,  0,  0,  0,  0,  0,  0,  0,  0,  0,  0,  0,  0, 11,  4,  5,\n",
       "         0,  0,  0,  0],\n",
       "       [ 0,  0,  0,  0,  0,  0,  0,  0,  0,  0,  0,  0,  0,  4,  0,  0,\n",
       "         0,  0,  0,  0],\n",
       "       [ 0,  0,  0,  0,  0,  0,  0,  0,  0,  0,  0,  1,  0,  3,  0, 15,\n",
       "         2,  0,  0,  0],\n",
       "       [ 0,  0,  0,  0,  0,  0,  0,  0,  0,  0,  0,  0,  0,  0,  0,  4,\n",
       "         0,  0,  0,  0],\n",
       "       [ 0,  0,  0,  0,  0,  1,  0,  0,  0,  0,  0,  0,  0,  0,  0,  0,\n",
       "         0,  2,  0,  0],\n",
       "       [ 0,  0,  0,  0,  0,  0,  0,  0,  0,  0,  0,  0,  0,  0,  0,  0,\n",
       "         0,  0, 20,  0],\n",
       "       [ 0,  0,  0,  0,  0,  0,  0,  0,  0,  0,  0,  0,  0,  0,  0,  0,\n",
       "         0,  0,  0,  4]])"
      ]
     },
     "execution_count": 45,
     "metadata": {},
     "output_type": "execute_result"
    }
   ],
   "source": [
    "confusion_matrix = metrics.confusion_matrix(dep_eval, dep_pred)\n",
    "confusion_matrix"
   ]
  },
  {
   "cell_type": "code",
   "execution_count": 75,
   "metadata": {},
   "outputs": [
    {
     "data": {
      "text/plain": [
       "Text(0.5,0,'Classified label')"
      ]
     },
     "execution_count": 75,
     "metadata": {},
     "output_type": "execute_result"
    },
    {
     "data": {
      "image/png": "[encoded data removed]",
      "text/plain": [
       "<Figure size 576x576 with 1 Axes>"
      ]
     },
     "metadata": {},
     "output_type": "display_data"
    }
   ],
   "source": [
    "#Plot of the confusion matrix with the maximum k and d\n",
    "plt.figure(figsize=(8,8))\n",
    "plt.imshow(confusion_matrix, interpolation='nearest', cmap=plt.cm.Blues)\n",
    "plt.title('Confusion matrix for our classifer with the optimal k,d values')\n",
    "tick_marks = np.arange(len(eval_dict.keys()))\n",
    "plt.xticks(tick_marks, eval_dict.keys(), rotation=90)\n",
    "plt.yticks(tick_marks, eval_dict.keys())\n",
    "plt.ylabel('Actual label')\n",
    "plt.xlabel('Classified label')"
   ]
  },
  {
   "cell_type": "code",
   "execution_count": 43,
   "metadata": {
    "scrolled": true
   },
   "outputs": [
    {
     "name": "stdout",
     "output_type": "stream",
     "text": [
      "Classification Report for our classifier with optimal k,d values\n",
      "                     precision    recall  f1-score   support\n",
      "\n",
      "        brush_teeth       1.00      0.67      0.80         3\n",
      "       climb_stairs       0.75      0.86      0.80        21\n",
      " climb_stairs_model       0.50      0.25      0.33         4\n",
      "          comb_hair       0.86      0.86      0.86         7\n",
      "     descend_stairs       0.86      0.67      0.75         9\n",
      "        drink_glass       0.78      0.90      0.84        20\n",
      "  drink_glass_model       0.00      0.00      0.00         4\n",
      "           eat_meat       1.00      1.00      1.00         1\n",
      "          getup_bed       0.70      0.90      0.79        21\n",
      "    getup_bed_model       0.00      0.00      0.00         4\n",
      "        liedown_bed       1.00      0.17      0.29         6\n",
      "         pour_water       0.80      1.00      0.89        20\n",
      "   pour_water_model       0.00      0.00      0.00         4\n",
      "      sitdown_chair       0.55      0.55      0.55        20\n",
      "sitdown_chair_model       0.00      0.00      0.00         4\n",
      "      standup_chair       0.60      0.71      0.65        21\n",
      "standup_chair_model       0.00      0.00      0.00         4\n",
      "      use_telephone       1.00      0.67      0.80         3\n",
      "               walk       0.95      1.00      0.98        20\n",
      "         walk_model       1.00      1.00      1.00         4\n",
      "\n",
      "          micro avg       0.72      0.72      0.72       200\n",
      "          macro avg       0.62      0.56      0.57       200\n",
      "       weighted avg       0.69      0.72      0.69       200\n",
      "\n"
     ]
    }
   ],
   "source": [
    "print('Classification Report for our classifier with optimal k,d values')\n",
    "print(metrics.classification_report(dep_eval, dep_pred))"
   ]
  },
  {
   "cell_type": "code",
   "execution_count": 73,
   "metadata": {},
   "outputs": [
    {
     "name": "stdout",
     "output_type": "stream",
     "text": [
      "0.29654934437543135\n"
     ]
    }
   ],
   "source": [
    "error_rate = 1 - 0.7034506556245687\n",
    "print(error_rate)"
   ]
  }
 ],
 "metadata": {
  "kernelspec": {
   "display_name": "Python 3",
   "language": "python",
   "name": "python3"
  },
  "language_info": {
   "codemirror_mode": {
    "name": "ipython",
    "version": 3
   },
   "file_extension": ".py",
   "mimetype": "text/x-python",
   "name": "python",
   "nbconvert_exporter": "python",
   "pygments_lexer": "ipython3",
   "version": "3.7.0"
  }
 },
 "nbformat": 4,
 "nbformat_minor": 2
}
